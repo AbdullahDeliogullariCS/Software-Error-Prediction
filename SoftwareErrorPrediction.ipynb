{
 "cells": [
  {
   "cell_type": "code",
   "execution_count": 1,
   "metadata": {},
   "outputs": [
    {
     "name": "stderr",
     "output_type": "stream",
     "text": [
      "Using TensorFlow backend.\n"
     ]
    }
   ],
   "source": [
    "%matplotlib inline\n",
    "import warnings\n",
    "warnings.filterwarnings('ignore')\n",
    "\n",
    "import numpy as np\n",
    "import pandas as pd\n",
    "import seaborn as sbn\n",
    "import matplotlib.pyplot as plt\n",
    "from sklearn.utils import class_weight\n",
    "from sklearn.metrics import accuracy_score\n",
    "from sklearn.metrics import confusion_matrix\n",
    "from sklearn.metrics import precision_recall_fscore_support\n",
    "from sklearn.preprocessing import LabelEncoder\n",
    "from sklearn.preprocessing import MinMaxScaler\n",
    "from sklearn.model_selection import train_test_split\n",
    "from sklearn.ensemble import RandomForestClassifier\n",
    "from sklearn.neighbors import KNeighborsClassifier\n",
    "from xgboost import XGBClassifier\n",
    "from keras.models import Sequential \n",
    "from keras.layers import Dense\n",
    "from keras.layers import Dropout\n",
    "from keras.callbacks import EarlyStopping\n",
    "from keras.utils import plot_model"
   ]
  },
  {
   "cell_type": "markdown",
   "metadata": {},
   "source": [
    "## PREPROCESSING"
   ]
  },
  {
   "cell_type": "code",
   "execution_count": 2,
   "metadata": {},
   "outputs": [],
   "source": [
    "EnvironmentalMetrics = pd.read_csv(\"EnvironmentalMetrics.csv\")"
   ]
  },
  {
   "cell_type": "code",
   "execution_count": 3,
   "metadata": {},
   "outputs": [],
   "source": [
    "EnvironmentalMetricsColumns={\n",
    "    \n",
    "    \"Numara\":\"Number\",\\\n",
    "    \"Proje Tarihi\":\"ProjectDate\",\\\n",
    "    \"Projenin buyuklugu (Buyuk, Kucuk, Orta)\":\"ProjectSize\",\\\n",
    "    \"Projenin Onemi (Yuksek, Orta, Dusuk)\":\"ProjectImportance\",\\\n",
    "    \"Proje ekibindeki  yazilimci sayisi \":\"NumberOfDeveloper\",\\\n",
    "    \"Proje ekibindeki analist sayisi\":\"NumberOfAnalyst\",\\\n",
    "    \"Proje ekibindeki testci sayisi\":\"NumberOfTester\",\\\n",
    "    \"Analistin yasi\":\"AnalystAge\",\\\n",
    "    \"Analistin tecrubesi (yil)\":\"AnalystExperience\",\\\n",
    "    \"Benzer proje tecrubesi var mi? \":\"SimilarProjectExperienceOfAnalyst\",\\\n",
    "    \"Analiz icin harcanan sure (Adam/Gun)\":\"TimeSpentForAnalysis\",\\\n",
    "    \"Yazilimcinin yasi\":\"DeveloperAge\",\\\n",
    "    \"Yazilimcinin tecrubesi (yil)\":\"DeveloperExperience\",\\\n",
    "    \"Benzer proje tecrubesi var mi? .1\":\"SimilarProjectExperienceOfDeveloper\",\\\n",
    "    \"Yazilim icin harcanan sure (Adam/Gun)\":\"TimeSpentForSoftware\",\\\n",
    "    \"Yazilimcinin bildigi yazilim dili sayisi?\":\"NumberOfProgrammingLanguageDeveloperKnows\",\\\n",
    "    \"Gelistirme Metodolojisi\":\"DevelopingMethodology\",\\\n",
    "    \"Yazilim dili\":\"ProgrammingLanguageOfSoftware\",\\\n",
    "    \"Kod Kalite Kontrol Tool'u kullanildi mi?\":\"UseOfQualityControlTool\",\\\n",
    "    \"Satir Sayisi\":\"NumberOfLinesOfCode\",\\\n",
    "    \"Hedef Platformu\":\"TargetPlatform\",\\\n",
    "    \"Yazilimci testi yapildi mi?\":\"MakingDeveloperTesting\",\\\n",
    "    \"Hazir platform uzerine urun gelistirmesi mi?\":\"DevelopingOnReadyPlatform\",\\\n",
    "    \"Yazilimda danismanlik alindi mi?\":\"ReceivingSoftwareConsultancy\",\\\n",
    "    \"Testci yasi\":\"TesterAge\",\\\n",
    "    \"Testci tecrubesi (yil)\":\"TesterExperience\",\\\n",
    "    \"Benzer proje tecrubesi var mi?\":\"SimilarProjectExperienceOfTester\",\\\n",
    "    \"Test icin harcanan sure (Adam/Gun)\":\"TimeSpentForTesting\",\\\n",
    "    \"Test otomasyon kullanildi mi?\":\"UseOfTestAutomation\",\\\n",
    "    \"Test otomasyon yuzdesi\":\"PercentageOfTestAutomation\",\\\n",
    "    \"Kac farkli browser'da test edildi ?\":\"NumberOfBrowserTestedOn\",\\\n",
    "    \"Durum kac kere test edildi\":\"NumberOfTesting\",\\\n",
    "    \"Test senaryo sayisi\":\"NumberOfTestScenario\",\\\n",
    "    \"Test No\":\"TestNumber\",\\\n",
    "    \"Case No\":\"CaseNumber\",\\\n",
    "    \"Gruplama\":\"Grouping\",\\\n",
    "    \"Hata Kodu\":\"ErrorCode\"\n",
    "    \n",
    "}\n",
    "\n",
    "EnvironmentalMetricsRenamed = EnvironmentalMetrics.rename(columns=EnvironmentalMetricsColumns)"
   ]
  },
  {
   "cell_type": "code",
   "execution_count": 4,
   "metadata": {},
   "outputs": [],
   "source": [
    "categoricalColumns = [\"Number\",\"ProjectDate\",\"ProjectSize\",\"ProjectImportance\",\"SimilarProjectExperienceOfAnalyst\",\\\n",
    "                      \"SimilarProjectExperienceOfDeveloper\",\"DevelopingMethodology\",\"ProgrammingLanguageOfSoftware\",\\\n",
    "                      \"UseOfQualityControlTool\",\"TargetPlatform\",\"MakingDeveloperTesting\",\"DevelopingOnReadyPlatform\",\\\n",
    "                      \"ReceivingSoftwareConsultancy\",\"SimilarProjectExperienceOfTester\",\"UseOfTestAutomation\",\\\n",
    "                      \"Grouping\",\"ErrorCode\",\"TestNumber\",\"CaseNumber\"]\n",
    "\n",
    "numericalColumns = [\"NumberOfDeveloper\",\"NumberOfAnalyst\",\"NumberOfTester\",\"AnalystAge\",\"AnalystExperience\",\\\n",
    "                    \"TimeSpentForAnalysis\",\"DeveloperAge\",\"DeveloperExperience\",\"TimeSpentForSoftware\",\\\n",
    "                    \"NumberOfProgrammingLanguageDeveloperKnows\",\"NumberOfLinesOfCode\",\"TesterAge\",\"TesterExperience\",\\\n",
    "                    \"TimeSpentForTesting\",\"PercentageOfTestAutomation\",\"NumberOfBrowserTestedOn\",\"NumberOfTesting\",\\\n",
    "                    \"NumberOfTestScenario\"]"
   ]
  },
  {
   "cell_type": "code",
   "execution_count": 5,
   "metadata": {
    "scrolled": true
   },
   "outputs": [
    {
     "data": {
      "text/html": [
       "<div>\n",
       "<style scoped>\n",
       "    .dataframe tbody tr th:only-of-type {\n",
       "        vertical-align: middle;\n",
       "    }\n",
       "\n",
       "    .dataframe tbody tr th {\n",
       "        vertical-align: top;\n",
       "    }\n",
       "\n",
       "    .dataframe thead th {\n",
       "        text-align: right;\n",
       "    }\n",
       "</style>\n",
       "<table border=\"1\" class=\"dataframe\">\n",
       "  <thead>\n",
       "    <tr style=\"text-align: right;\">\n",
       "      <th></th>\n",
       "      <th>Number</th>\n",
       "      <th>ProjectDate</th>\n",
       "      <th>ProjectSize</th>\n",
       "      <th>ProjectImportance</th>\n",
       "      <th>NumberOfDeveloper</th>\n",
       "      <th>NumberOfAnalyst</th>\n",
       "      <th>NumberOfTester</th>\n",
       "      <th>AnalystAge</th>\n",
       "      <th>AnalystExperience</th>\n",
       "      <th>SimilarProjectExperienceOfAnalyst</th>\n",
       "      <th>...</th>\n",
       "      <th>TimeSpentForTesting</th>\n",
       "      <th>UseOfTestAutomation</th>\n",
       "      <th>PercentageOfTestAutomation</th>\n",
       "      <th>NumberOfBrowserTestedOn</th>\n",
       "      <th>NumberOfTesting</th>\n",
       "      <th>NumberOfTestScenario</th>\n",
       "      <th>TestNumber</th>\n",
       "      <th>CaseNumber</th>\n",
       "      <th>Grouping</th>\n",
       "      <th>ErrorCode</th>\n",
       "    </tr>\n",
       "  </thead>\n",
       "  <tbody>\n",
       "    <tr>\n",
       "      <th>0</th>\n",
       "      <td>0</td>\n",
       "      <td>0</td>\n",
       "      <td>1</td>\n",
       "      <td>0</td>\n",
       "      <td>1</td>\n",
       "      <td>1</td>\n",
       "      <td>1</td>\n",
       "      <td>33</td>\n",
       "      <td>5</td>\n",
       "      <td>0</td>\n",
       "      <td>...</td>\n",
       "      <td>8</td>\n",
       "      <td>0</td>\n",
       "      <td>0.1</td>\n",
       "      <td>3</td>\n",
       "      <td>5</td>\n",
       "      <td>64</td>\n",
       "      <td>0</td>\n",
       "      <td>0</td>\n",
       "      <td>5</td>\n",
       "      <td>4</td>\n",
       "    </tr>\n",
       "    <tr>\n",
       "      <th>1</th>\n",
       "      <td>0</td>\n",
       "      <td>0</td>\n",
       "      <td>1</td>\n",
       "      <td>0</td>\n",
       "      <td>1</td>\n",
       "      <td>1</td>\n",
       "      <td>1</td>\n",
       "      <td>33</td>\n",
       "      <td>5</td>\n",
       "      <td>0</td>\n",
       "      <td>...</td>\n",
       "      <td>8</td>\n",
       "      <td>0</td>\n",
       "      <td>0.1</td>\n",
       "      <td>3</td>\n",
       "      <td>5</td>\n",
       "      <td>64</td>\n",
       "      <td>0</td>\n",
       "      <td>1</td>\n",
       "      <td>28</td>\n",
       "      <td>1</td>\n",
       "    </tr>\n",
       "    <tr>\n",
       "      <th>2</th>\n",
       "      <td>0</td>\n",
       "      <td>0</td>\n",
       "      <td>1</td>\n",
       "      <td>0</td>\n",
       "      <td>1</td>\n",
       "      <td>1</td>\n",
       "      <td>1</td>\n",
       "      <td>33</td>\n",
       "      <td>5</td>\n",
       "      <td>0</td>\n",
       "      <td>...</td>\n",
       "      <td>8</td>\n",
       "      <td>0</td>\n",
       "      <td>0.1</td>\n",
       "      <td>3</td>\n",
       "      <td>5</td>\n",
       "      <td>64</td>\n",
       "      <td>0</td>\n",
       "      <td>2</td>\n",
       "      <td>5</td>\n",
       "      <td>5</td>\n",
       "    </tr>\n",
       "    <tr>\n",
       "      <th>3</th>\n",
       "      <td>0</td>\n",
       "      <td>0</td>\n",
       "      <td>1</td>\n",
       "      <td>0</td>\n",
       "      <td>1</td>\n",
       "      <td>1</td>\n",
       "      <td>1</td>\n",
       "      <td>33</td>\n",
       "      <td>5</td>\n",
       "      <td>0</td>\n",
       "      <td>...</td>\n",
       "      <td>8</td>\n",
       "      <td>0</td>\n",
       "      <td>0.1</td>\n",
       "      <td>3</td>\n",
       "      <td>5</td>\n",
       "      <td>64</td>\n",
       "      <td>0</td>\n",
       "      <td>3</td>\n",
       "      <td>17</td>\n",
       "      <td>1</td>\n",
       "    </tr>\n",
       "    <tr>\n",
       "      <th>4</th>\n",
       "      <td>0</td>\n",
       "      <td>0</td>\n",
       "      <td>1</td>\n",
       "      <td>0</td>\n",
       "      <td>1</td>\n",
       "      <td>1</td>\n",
       "      <td>1</td>\n",
       "      <td>33</td>\n",
       "      <td>5</td>\n",
       "      <td>0</td>\n",
       "      <td>...</td>\n",
       "      <td>8</td>\n",
       "      <td>0</td>\n",
       "      <td>0.1</td>\n",
       "      <td>3</td>\n",
       "      <td>5</td>\n",
       "      <td>64</td>\n",
       "      <td>0</td>\n",
       "      <td>4</td>\n",
       "      <td>22</td>\n",
       "      <td>1</td>\n",
       "    </tr>\n",
       "  </tbody>\n",
       "</table>\n",
       "<p>5 rows × 37 columns</p>\n",
       "</div>"
      ],
      "text/plain": [
       "   Number  ProjectDate  ProjectSize  ProjectImportance  NumberOfDeveloper  \\\n",
       "0       0            0            1                  0                  1   \n",
       "1       0            0            1                  0                  1   \n",
       "2       0            0            1                  0                  1   \n",
       "3       0            0            1                  0                  1   \n",
       "4       0            0            1                  0                  1   \n",
       "\n",
       "   NumberOfAnalyst  NumberOfTester  AnalystAge  AnalystExperience  \\\n",
       "0                1               1          33                  5   \n",
       "1                1               1          33                  5   \n",
       "2                1               1          33                  5   \n",
       "3                1               1          33                  5   \n",
       "4                1               1          33                  5   \n",
       "\n",
       "   SimilarProjectExperienceOfAnalyst    ...      TimeSpentForTesting  \\\n",
       "0                                  0    ...                        8   \n",
       "1                                  0    ...                        8   \n",
       "2                                  0    ...                        8   \n",
       "3                                  0    ...                        8   \n",
       "4                                  0    ...                        8   \n",
       "\n",
       "   UseOfTestAutomation  PercentageOfTestAutomation  NumberOfBrowserTestedOn  \\\n",
       "0                    0                         0.1                        3   \n",
       "1                    0                         0.1                        3   \n",
       "2                    0                         0.1                        3   \n",
       "3                    0                         0.1                        3   \n",
       "4                    0                         0.1                        3   \n",
       "\n",
       "   NumberOfTesting  NumberOfTestScenario  TestNumber  CaseNumber  Grouping  \\\n",
       "0                5                    64           0           0         5   \n",
       "1                5                    64           0           1        28   \n",
       "2                5                    64           0           2         5   \n",
       "3                5                    64           0           3        17   \n",
       "4                5                    64           0           4        22   \n",
       "\n",
       "   ErrorCode  \n",
       "0          4  \n",
       "1          1  \n",
       "2          5  \n",
       "3          1  \n",
       "4          1  \n",
       "\n",
       "[5 rows x 37 columns]"
      ]
     },
     "execution_count": 5,
     "metadata": {},
     "output_type": "execute_result"
    }
   ],
   "source": [
    "labelEncoder = LabelEncoder()\n",
    "EnvironmentalMetricsEncoded = EnvironmentalMetricsRenamed\n",
    "for categoricalCol in categoricalColumns:\n",
    "    EnvironmentalMetricsEncoded[categoricalCol]= labelEncoder.fit_transform(EnvironmentalMetricsEncoded[categoricalCol])\n",
    "EnvironmentalMetricsEncoded.head()"
   ]
  },
  {
   "cell_type": "code",
   "execution_count": 6,
   "metadata": {},
   "outputs": [
    {
     "data": {
      "text/html": [
       "<div>\n",
       "<style scoped>\n",
       "    .dataframe tbody tr th:only-of-type {\n",
       "        vertical-align: middle;\n",
       "    }\n",
       "\n",
       "    .dataframe tbody tr th {\n",
       "        vertical-align: top;\n",
       "    }\n",
       "\n",
       "    .dataframe thead th {\n",
       "        text-align: right;\n",
       "    }\n",
       "</style>\n",
       "<table border=\"1\" class=\"dataframe\">\n",
       "  <thead>\n",
       "    <tr style=\"text-align: right;\">\n",
       "      <th></th>\n",
       "      <th>Number</th>\n",
       "      <th>ProjectDate</th>\n",
       "      <th>ProjectSize</th>\n",
       "      <th>ProjectImportance</th>\n",
       "      <th>NumberOfDeveloper</th>\n",
       "      <th>NumberOfAnalyst</th>\n",
       "      <th>NumberOfTester</th>\n",
       "      <th>AnalystAge</th>\n",
       "      <th>AnalystExperience</th>\n",
       "      <th>SimilarProjectExperienceOfAnalyst</th>\n",
       "      <th>...</th>\n",
       "      <th>TimeSpentForTesting</th>\n",
       "      <th>UseOfTestAutomation</th>\n",
       "      <th>PercentageOfTestAutomation</th>\n",
       "      <th>NumberOfBrowserTestedOn</th>\n",
       "      <th>NumberOfTesting</th>\n",
       "      <th>NumberOfTestScenario</th>\n",
       "      <th>TestNumber</th>\n",
       "      <th>CaseNumber</th>\n",
       "      <th>Grouping</th>\n",
       "      <th>ErrorCode</th>\n",
       "    </tr>\n",
       "  </thead>\n",
       "  <tbody>\n",
       "    <tr>\n",
       "      <th>0</th>\n",
       "      <td>0</td>\n",
       "      <td>0</td>\n",
       "      <td>1</td>\n",
       "      <td>0</td>\n",
       "      <td>0.0</td>\n",
       "      <td>0.0</td>\n",
       "      <td>0.0</td>\n",
       "      <td>1.0</td>\n",
       "      <td>0.8</td>\n",
       "      <td>0</td>\n",
       "      <td>...</td>\n",
       "      <td>0.0</td>\n",
       "      <td>0</td>\n",
       "      <td>0.333333</td>\n",
       "      <td>0.4</td>\n",
       "      <td>0.0</td>\n",
       "      <td>0.136808</td>\n",
       "      <td>0</td>\n",
       "      <td>0</td>\n",
       "      <td>5</td>\n",
       "      <td>4</td>\n",
       "    </tr>\n",
       "    <tr>\n",
       "      <th>1</th>\n",
       "      <td>0</td>\n",
       "      <td>0</td>\n",
       "      <td>1</td>\n",
       "      <td>0</td>\n",
       "      <td>0.0</td>\n",
       "      <td>0.0</td>\n",
       "      <td>0.0</td>\n",
       "      <td>1.0</td>\n",
       "      <td>0.8</td>\n",
       "      <td>0</td>\n",
       "      <td>...</td>\n",
       "      <td>0.0</td>\n",
       "      <td>0</td>\n",
       "      <td>0.333333</td>\n",
       "      <td>0.4</td>\n",
       "      <td>0.0</td>\n",
       "      <td>0.136808</td>\n",
       "      <td>0</td>\n",
       "      <td>1</td>\n",
       "      <td>28</td>\n",
       "      <td>1</td>\n",
       "    </tr>\n",
       "    <tr>\n",
       "      <th>2</th>\n",
       "      <td>0</td>\n",
       "      <td>0</td>\n",
       "      <td>1</td>\n",
       "      <td>0</td>\n",
       "      <td>0.0</td>\n",
       "      <td>0.0</td>\n",
       "      <td>0.0</td>\n",
       "      <td>1.0</td>\n",
       "      <td>0.8</td>\n",
       "      <td>0</td>\n",
       "      <td>...</td>\n",
       "      <td>0.0</td>\n",
       "      <td>0</td>\n",
       "      <td>0.333333</td>\n",
       "      <td>0.4</td>\n",
       "      <td>0.0</td>\n",
       "      <td>0.136808</td>\n",
       "      <td>0</td>\n",
       "      <td>2</td>\n",
       "      <td>5</td>\n",
       "      <td>5</td>\n",
       "    </tr>\n",
       "    <tr>\n",
       "      <th>3</th>\n",
       "      <td>0</td>\n",
       "      <td>0</td>\n",
       "      <td>1</td>\n",
       "      <td>0</td>\n",
       "      <td>0.0</td>\n",
       "      <td>0.0</td>\n",
       "      <td>0.0</td>\n",
       "      <td>1.0</td>\n",
       "      <td>0.8</td>\n",
       "      <td>0</td>\n",
       "      <td>...</td>\n",
       "      <td>0.0</td>\n",
       "      <td>0</td>\n",
       "      <td>0.333333</td>\n",
       "      <td>0.4</td>\n",
       "      <td>0.0</td>\n",
       "      <td>0.136808</td>\n",
       "      <td>0</td>\n",
       "      <td>3</td>\n",
       "      <td>17</td>\n",
       "      <td>1</td>\n",
       "    </tr>\n",
       "    <tr>\n",
       "      <th>4</th>\n",
       "      <td>0</td>\n",
       "      <td>0</td>\n",
       "      <td>1</td>\n",
       "      <td>0</td>\n",
       "      <td>0.0</td>\n",
       "      <td>0.0</td>\n",
       "      <td>0.0</td>\n",
       "      <td>1.0</td>\n",
       "      <td>0.8</td>\n",
       "      <td>0</td>\n",
       "      <td>...</td>\n",
       "      <td>0.0</td>\n",
       "      <td>0</td>\n",
       "      <td>0.333333</td>\n",
       "      <td>0.4</td>\n",
       "      <td>0.0</td>\n",
       "      <td>0.136808</td>\n",
       "      <td>0</td>\n",
       "      <td>4</td>\n",
       "      <td>22</td>\n",
       "      <td>1</td>\n",
       "    </tr>\n",
       "  </tbody>\n",
       "</table>\n",
       "<p>5 rows × 37 columns</p>\n",
       "</div>"
      ],
      "text/plain": [
       "   Number  ProjectDate  ProjectSize  ProjectImportance  NumberOfDeveloper  \\\n",
       "0       0            0            1                  0                0.0   \n",
       "1       0            0            1                  0                0.0   \n",
       "2       0            0            1                  0                0.0   \n",
       "3       0            0            1                  0                0.0   \n",
       "4       0            0            1                  0                0.0   \n",
       "\n",
       "   NumberOfAnalyst  NumberOfTester  AnalystAge  AnalystExperience  \\\n",
       "0              0.0             0.0         1.0                0.8   \n",
       "1              0.0             0.0         1.0                0.8   \n",
       "2              0.0             0.0         1.0                0.8   \n",
       "3              0.0             0.0         1.0                0.8   \n",
       "4              0.0             0.0         1.0                0.8   \n",
       "\n",
       "   SimilarProjectExperienceOfAnalyst    ...      TimeSpentForTesting  \\\n",
       "0                                  0    ...                      0.0   \n",
       "1                                  0    ...                      0.0   \n",
       "2                                  0    ...                      0.0   \n",
       "3                                  0    ...                      0.0   \n",
       "4                                  0    ...                      0.0   \n",
       "\n",
       "   UseOfTestAutomation  PercentageOfTestAutomation  NumberOfBrowserTestedOn  \\\n",
       "0                    0                    0.333333                      0.4   \n",
       "1                    0                    0.333333                      0.4   \n",
       "2                    0                    0.333333                      0.4   \n",
       "3                    0                    0.333333                      0.4   \n",
       "4                    0                    0.333333                      0.4   \n",
       "\n",
       "   NumberOfTesting  NumberOfTestScenario  TestNumber  CaseNumber  Grouping  \\\n",
       "0              0.0              0.136808           0           0         5   \n",
       "1              0.0              0.136808           0           1        28   \n",
       "2              0.0              0.136808           0           2         5   \n",
       "3              0.0              0.136808           0           3        17   \n",
       "4              0.0              0.136808           0           4        22   \n",
       "\n",
       "   ErrorCode  \n",
       "0          4  \n",
       "1          1  \n",
       "2          5  \n",
       "3          1  \n",
       "4          1  \n",
       "\n",
       "[5 rows x 37 columns]"
      ]
     },
     "execution_count": 6,
     "metadata": {},
     "output_type": "execute_result"
    }
   ],
   "source": [
    "normalizer = MinMaxScaler()\n",
    "EnvironmentalMetricsEncoded[numericalColumns] = normalizer.fit_transform(EnvironmentalMetricsEncoded[numericalColumns])\n",
    "EnvironmentalMetricsEncoded.head()"
   ]
  },
  {
   "cell_type": "code",
   "execution_count": 7,
   "metadata": {},
   "outputs": [],
   "source": [
    "X = EnvironmentalMetricsEncoded.iloc[:,:-1].values\n",
    "y = EnvironmentalMetricsEncoded.iloc[:,-1].values"
   ]
  },
  {
   "cell_type": "code",
   "execution_count": 8,
   "metadata": {},
   "outputs": [],
   "source": [
    "X_train, X_test, y_train, y_test = train_test_split(X, y, test_size=0.20)"
   ]
  },
  {
   "cell_type": "markdown",
   "metadata": {},
   "source": [
    "## RANDOM FOREST CLASSIFIER"
   ]
  },
  {
   "cell_type": "code",
   "execution_count": 9,
   "metadata": {},
   "outputs": [
    {
     "data": {
      "text/plain": [
       "RandomForestClassifier(bootstrap=True, class_weight='balanced_subsample',\n",
       "                       criterion='gini', max_depth=13, max_features=36,\n",
       "                       max_leaf_nodes=None, min_impurity_decrease=0.0,\n",
       "                       min_impurity_split=None, min_samples_leaf=1,\n",
       "                       min_samples_split=2, min_weight_fraction_leaf=0.0,\n",
       "                       n_estimators=100, n_jobs=None, oob_score=False,\n",
       "                       random_state=None, verbose=0, warm_start=False)"
      ]
     },
     "execution_count": 9,
     "metadata": {},
     "output_type": "execute_result"
    }
   ],
   "source": [
    "rfc = RandomForestClassifier(max_depth=13,\n",
    "                             max_features=36,\n",
    "                             n_estimators=100,\n",
    "                             class_weight=\"balanced_subsample\")\n",
    "rfc.fit(X_train,y_train)"
   ]
  },
  {
   "cell_type": "code",
   "execution_count": 10,
   "metadata": {
    "scrolled": true
   },
   "outputs": [
    {
     "name": "stdout",
     "output_type": "stream",
     "text": [
      "[[ 10   7   0   0   0   1   2   0   9]\n",
      " [ 14 513   0   1  17  37  13   4  38]\n",
      " [  0   1   0   0   0   0   0   0   1]\n",
      " [  0   0   0   0   2   1   0   0   2]\n",
      " [  1   9   0   0  44   7   1   3   6]\n",
      " [  3  22   0   0   6  68   4   1  10]\n",
      " [  1  11   0   0   5   4  41   2   8]\n",
      " [  0   3   0   0   0   0   0   7   3]\n",
      " [ 13   5   0   1   5  19   5   1 344]]\n",
      "Random Forest Train Accuracy: 0.8895131086142322\n",
      "Random Forest Test Accuracy: 0.7687125748502994\n",
      "Precision - Recall - F1: (0.7831084937967066, 0.7687125748502994, 0.7735329865424081)\n"
     ]
    }
   ],
   "source": [
    "rfc_confusion_matrix = confusion_matrix(y_test, rfc.predict(X_test))\n",
    "print(rfc_confusion_matrix)\n",
    "print(\"Random Forest Train Accuracy:\", accuracy_score(y_train, rfc.predict(X_train)))\n",
    "print(\"Random Forest Test Accuracy:\", accuracy_score(y_test, rfc.predict(X_test)))\n",
    "print(\"Precision - Recall - F1:\", precision_recall_fscore_support(y_test, rfc.predict(X_test), labels=np.unique(y_test), average='weighted')[:-1])"
   ]
  },
  {
   "cell_type": "code",
   "execution_count": 11,
   "metadata": {
    "scrolled": true
   },
   "outputs": [
    {
     "data": {
      "text/plain": [
       "<matplotlib.axes._subplots.AxesSubplot at 0x7f30c54d40f0>"
      ]
     },
     "execution_count": 11,
     "metadata": {},
     "output_type": "execute_result"
    },
    {
     "data": {
      "image/png": "[encoded data removed]",
      "text/plain": [
       "<Figure size 576x432 with 2 Axes>"
      ]
     },
     "metadata": {
      "needs_background": "light"
     },
     "output_type": "display_data"
    }
   ],
   "source": [
    "fig, ax = plt.subplots(figsize=(8,6))\n",
    "sbn.heatmap(rfc_confusion_matrix, annot=True, annot_kws={\"size\": 10}, fmt='g', ax=ax)"
   ]
  },
  {
   "cell_type": "code",
   "execution_count": 12,
   "metadata": {},
   "outputs": [
    {
     "data": {
      "text/plain": [
       "<matplotlib.axes._subplots.AxesSubplot at 0x7f30c5463b70>"
      ]
     },
     "execution_count": 12,
     "metadata": {},
     "output_type": "execute_result"
    },
    {
     "data": {
      "image/png": "[encoded data removed]",
      "text/plain": [
       "<Figure size 432x288 with 1 Axes>"
      ]
     },
     "metadata": {
      "needs_background": "light"
     },
     "output_type": "display_data"
    }
   ],
   "source": [
    "featImportances = pd.Series(data = rfc.feature_importances_,\n",
    "                            index = EnvironmentalMetricsEncoded.iloc[:,:-1].columns)\n",
    "featImportances.nlargest(15).plot(kind = 'barh')"
   ]
  },
  {
   "cell_type": "markdown",
   "metadata": {},
   "source": [
    "## K-NN CLASSIFIER"
   ]
  },
  {
   "cell_type": "code",
   "execution_count": 13,
   "metadata": {},
   "outputs": [
    {
     "data": {
      "text/plain": [
       "KNeighborsClassifier(algorithm='auto', leaf_size=30, metric='minkowski',\n",
       "                     metric_params=None, n_jobs=None, n_neighbors=3, p=1,\n",
       "                     weights='uniform')"
      ]
     },
     "execution_count": 13,
     "metadata": {},
     "output_type": "execute_result"
    }
   ],
   "source": [
    "knc = KNeighborsClassifier(n_neighbors=3,\n",
    "                           weights='uniform',\n",
    "                           algorithm='auto',\n",
    "                           leaf_size=30,\n",
    "                           p=1)\n",
    "knc.fit(X_train, y_train)"
   ]
  },
  {
   "cell_type": "code",
   "execution_count": 14,
   "metadata": {},
   "outputs": [
    {
     "name": "stdout",
     "output_type": "stream",
     "text": [
      "[[  5  10   0   0   0   1   0   0  13]\n",
      " [  5 577   0   0   7  12   7   1  28]\n",
      " [  0   1   0   0   0   0   0   0   1]\n",
      " [  0   2   0   0   1   0   0   0   2]\n",
      " [  2  27   0   0  31   2   1   2   6]\n",
      " [  2  58   0   0   4  36   2   0  12]\n",
      " [  0  36   0   0   1   8  24   0   3]\n",
      " [  0   6   0   0   0   0   0   5   2]\n",
      " [ 11  44   0   0   1   4   7   0 326]]\n",
      "K-NN Train Accuracy: 0.8934456928838951\n",
      "K-NN Test Accuracy: 0.7514970059880239\n",
      "Precision - Recall - F1: (0.7328644557418622, 0.7514970059880239, 0.732250933892023)\n"
     ]
    }
   ],
   "source": [
    "knc_confusion_matrix = confusion_matrix(y_test,knc.predict(X_test))\n",
    "print(knc_confusion_matrix)\n",
    "print(\"K-NN Train Accuracy:\", accuracy_score(y_train, knc.predict(X_train)))\n",
    "print(\"K-NN Test Accuracy:\", accuracy_score(y_test, knc.predict(X_test)))\n",
    "print(\"Precision - Recall - F1:\", precision_recall_fscore_support(y_test, knc.predict(X_test), labels=np.unique(y_test), average='weighted')[:-1])"
   ]
  },
  {
   "cell_type": "code",
   "execution_count": 15,
   "metadata": {},
   "outputs": [
    {
     "data": {
      "text/plain": [
       "<matplotlib.axes._subplots.AxesSubplot at 0x7f30c53ca518>"
      ]
     },
     "execution_count": 15,
     "metadata": {},
     "output_type": "execute_result"
    },
    {
     "data": {
      "image/png": "[encoded data removed]",
      "text/plain": [
       "<Figure size 576x432 with 2 Axes>"
      ]
     },
     "metadata": {
      "needs_background": "light"
     },
     "output_type": "display_data"
    }
   ],
   "source": [
    "fig, ax = plt.subplots(figsize=(8,6))\n",
    "sbn.heatmap(knc_confusion_matrix, annot=True, annot_kws={\"size\": 10}, fmt='g', ax=ax)"
   ]
  },
  {
   "cell_type": "markdown",
   "metadata": {},
   "source": [
    "## XGBOOST CLASSIFIER"
   ]
  },
  {
   "cell_type": "code",
   "execution_count": 16,
   "metadata": {},
   "outputs": [
    {
     "data": {
      "text/plain": [
       "XGBClassifier(base_score=0.5, booster='gbtree', colsample_bylevel=1,\n",
       "              colsample_bynode=1, colsample_bytree=0.5, gamma=3,\n",
       "              learning_rate=0.3, max_delta_step=0, max_depth=18,\n",
       "              min_child_weight=5, missing=None, n_estimators=2000, n_jobs=1,\n",
       "              nthread=None, objective='multi:softprob', random_state=0,\n",
       "              reg_alpha=0, reg_lambda=1, scale_pos_weight=200, seed=None,\n",
       "              silent=0, subsample=1.0, verbosity=1)"
      ]
     },
     "execution_count": 16,
     "metadata": {},
     "output_type": "execute_result"
    }
   ],
   "source": [
    "warnings.filterwarnings('ignore')\n",
    "\n",
    "xgb = XGBClassifier(booster='gbtree',\n",
    "                    gamma = 3,\n",
    "                    max_depth = 18,\n",
    "                    n_estimators = 2000,\n",
    "                    silent=0,\n",
    "                    learning_rate = 0.3,\n",
    "                    subsample = 1.0,\n",
    "                    colsample_bytree = 0.5,\n",
    "                    min_child_weight = 5,\n",
    "                    scale_pos_weight=200)\n",
    "\n",
    "xgb.fit(X_train, \n",
    "        y_train,\n",
    "        verbose=False,\n",
    "        early_stopping_rounds=30, \n",
    "        eval_metric=\"mlogloss\", \n",
    "        eval_set=[(X_train, y_train), (X_test, y_test)])"
   ]
  },
  {
   "cell_type": "code",
   "execution_count": 17,
   "metadata": {},
   "outputs": [
    {
     "name": "stdout",
     "output_type": "stream",
     "text": [
      "[[  1  13   0   0   0   0   0   0  15]\n",
      " [  0 591   0   0   4   7   3   0  32]\n",
      " [  0   2   0   0   0   0   0   0   0]\n",
      " [  0   0   0   0   0   0   0   0   5]\n",
      " [  0  39   0   0  19   4   0   0   9]\n",
      " [  0  37   0   0   1  46   4   1  25]\n",
      " [  0  29   0   0   1   2  29   0  11]\n",
      " [  0   8   0   0   0   0   0   0   5]\n",
      " [  2  26   0   0   0   3   2   0 360]]\n",
      "XGBoost Train Accuracy: 0.8247191011235955\n",
      "XGboost Test Accuracy: 0.7829341317365269\n",
      "Precision - Recall - F1: (0.759515927168818, 0.7829341317365269, 0.7509231599984239)\n"
     ]
    }
   ],
   "source": [
    "xgb_confusion_matrix = confusion_matrix(y_test, xgb.predict(X_test))\n",
    "print(xgb_confusion_matrix)\n",
    "print (\"XGBoost Train Accuracy:\", accuracy_score(y_train, xgb.predict(X_train)))\n",
    "print (\"XGboost Test Accuracy:\", accuracy_score(y_test, xgb.predict(X_test)))\n",
    "print(\"Precision - Recall - F1:\", precision_recall_fscore_support(y_test, xgb.predict(X_test), labels=np.unique(y_test), average='weighted')[:-1])"
   ]
  },
  {
   "cell_type": "code",
   "execution_count": 18,
   "metadata": {},
   "outputs": [
    {
     "data": {
      "text/plain": [
       "<matplotlib.axes._subplots.AxesSubplot at 0x7f30c530cf98>"
      ]
     },
     "execution_count": 18,
     "metadata": {},
     "output_type": "execute_result"
    },
    {
     "data": {
      "image/png": "[encoded data removed]",
      "text/plain": [
       "<Figure size 576x432 with 2 Axes>"
      ]
     },
     "metadata": {
      "needs_background": "light"
     },
     "output_type": "display_data"
    }
   ],
   "source": [
    "fig, ax = plt.subplots(figsize=(8,6))\n",
    "sbn.heatmap(xgb_confusion_matrix, annot=True, annot_kws={\"size\": 10}, fmt='g', ax=ax)"
   ]
  },
  {
   "cell_type": "code",
   "execution_count": 19,
   "metadata": {},
   "outputs": [
    {
     "data": {
      "text/plain": [
       "<matplotlib.axes._subplots.AxesSubplot at 0x7f30c5241c88>"
      ]
     },
     "execution_count": 19,
     "metadata": {},
     "output_type": "execute_result"
    },
    {
     "data": {
      "image/png": "[encoded data removed]",
      "text/plain": [
       "<Figure size 432x288 with 1 Axes>"
      ]
     },
     "metadata": {
      "needs_background": "light"
     },
     "output_type": "display_data"
    }
   ],
   "source": [
    "featImportances = pd.Series(data = xgb.feature_importances_,\n",
    "                            index = EnvironmentalMetricsEncoded.iloc[:,:-1].columns)\n",
    "featImportances.nlargest(15).plot(kind = 'barh')"
   ]
  },
  {
   "cell_type": "code",
   "execution_count": 20,
   "metadata": {},
   "outputs": [
    {
     "data": {
      "image/png": "[encoded data removed]",
      "text/plain": [
       "<Figure size 432x288 with 1 Axes>"
      ]
     },
     "metadata": {
      "needs_background": "light"
     },
     "output_type": "display_data"
    }
   ],
   "source": [
    "plt.plot(xgb.evals_result()['validation_0']['mlogloss'])\n",
    "plt.plot(xgb.evals_result()['validation_1']['mlogloss'])\n",
    "plt.title('XGBoost Log Loss')\n",
    "plt.ylabel('Log Loss')\n",
    "plt.xlabel('Epoch')\n",
    "plt.legend(['Train', 'Test'], loc='upper left')\n",
    "plt.show()"
   ]
  },
  {
   "cell_type": "markdown",
   "metadata": {},
   "source": [
    "## DEEP LEARNING"
   ]
  },
  {
   "cell_type": "code",
   "execution_count": 21,
   "metadata": {},
   "outputs": [
    {
     "name": "stderr",
     "output_type": "stream",
     "text": [
      "WARNING: Logging before flag parsing goes to stderr.\n",
      "W0409 13:37:33.641505 139849149712128 deprecation_wrapper.py:119] From /home/abdullahdeliogullari/.local/lib/python3.5/site-packages/keras/backend/tensorflow_backend.py:74: The name tf.get_default_graph is deprecated. Please use tf.compat.v1.get_default_graph instead.\n",
      "\n",
      "W0409 13:37:33.682025 139849149712128 deprecation_wrapper.py:119] From /home/abdullahdeliogullari/.local/lib/python3.5/site-packages/keras/backend/tensorflow_backend.py:517: The name tf.placeholder is deprecated. Please use tf.compat.v1.placeholder instead.\n",
      "\n",
      "W0409 13:37:33.691179 139849149712128 deprecation_wrapper.py:119] From /home/abdullahdeliogullari/.local/lib/python3.5/site-packages/keras/backend/tensorflow_backend.py:4138: The name tf.random_uniform is deprecated. Please use tf.random.uniform instead.\n",
      "\n",
      "W0409 13:37:33.731325 139849149712128 deprecation_wrapper.py:119] From /home/abdullahdeliogullari/.local/lib/python3.5/site-packages/keras/backend/tensorflow_backend.py:133: The name tf.placeholder_with_default is deprecated. Please use tf.compat.v1.placeholder_with_default instead.\n",
      "\n",
      "W0409 13:37:33.749479 139849149712128 deprecation.py:506] From /home/abdullahdeliogullari/.local/lib/python3.5/site-packages/keras/backend/tensorflow_backend.py:3445: calling dropout (from tensorflow.python.ops.nn_ops) with keep_prob is deprecated and will be removed in a future version.\n",
      "Instructions for updating:\n",
      "Please use `rate` instead of `keep_prob`. Rate should be set to `rate = 1 - keep_prob`.\n"
     ]
    },
    {
     "name": "stdout",
     "output_type": "stream",
     "text": [
      "_________________________________________________________________\n",
      "Layer (type)                 Output Shape              Param #   \n",
      "=================================================================\n",
      "dense_1 (Dense)              (None, 36)                1332      \n",
      "_________________________________________________________________\n",
      "dropout_1 (Dropout)          (None, 36)                0         \n",
      "_________________________________________________________________\n",
      "dense_2 (Dense)              (None, 54)                1998      \n",
      "_________________________________________________________________\n",
      "dropout_2 (Dropout)          (None, 54)                0         \n",
      "_________________________________________________________________\n",
      "dense_3 (Dense)              (None, 54)                2970      \n",
      "_________________________________________________________________\n",
      "dropout_3 (Dropout)          (None, 54)                0         \n",
      "_________________________________________________________________\n",
      "dense_4 (Dense)              (None, 9)                 495       \n",
      "=================================================================\n",
      "Total params: 6,795\n",
      "Trainable params: 6,795\n",
      "Non-trainable params: 0\n",
      "_________________________________________________________________\n"
     ]
    }
   ],
   "source": [
    "warnings.filterwarnings('ignore')\n",
    "\n",
    "# Initialising the NN\n",
    "model = Sequential()\n",
    "\n",
    "# layers\n",
    "model.add(Dense(36, kernel_initializer = 'uniform', activation = 'relu', input_dim = 36))\n",
    "model.add(Dropout(0.1))\n",
    "\n",
    "model.add(Dense(54, kernel_initializer = 'uniform', activation = 'relu'))\n",
    "model.add(Dropout(0.1))\n",
    "\n",
    "model.add(Dense(54, kernel_initializer = 'uniform', activation = 'relu'))\n",
    "model.add(Dropout(0.1))\n",
    "\n",
    "model.add(Dense(9, kernel_initializer = 'uniform', activation = 'softmax'))\n",
    "\n",
    "# summary\n",
    "model.summary()"
   ]
  },
  {
   "cell_type": "code",
   "execution_count": 22,
   "metadata": {},
   "outputs": [
    {
     "name": "stderr",
     "output_type": "stream",
     "text": [
      "W0409 13:37:49.707405 139849149712128 deprecation_wrapper.py:119] From /home/abdullahdeliogullari/.local/lib/python3.5/site-packages/keras/optimizers.py:790: The name tf.train.Optimizer is deprecated. Please use tf.compat.v1.train.Optimizer instead.\n",
      "\n",
      "W0409 13:37:49.749363 139849149712128 deprecation_wrapper.py:119] From /home/abdullahdeliogullari/.local/lib/python3.5/site-packages/keras/backend/tensorflow_backend.py:3341: The name tf.log is deprecated. Please use tf.math.log instead.\n",
      "\n",
      "W0409 13:37:49.889738 139849149712128 deprecation.py:323] From /home/abdullahdeliogullari/.local/lib/python3.5/site-packages/tensorflow/python/ops/math_grad.py:1250: add_dispatch_support.<locals>.wrapper (from tensorflow.python.ops.array_ops) is deprecated and will be removed in a future version.\n",
      "Instructions for updating:\n",
      "Use tf.where in 2.0, which has the same broadcast rule as np.where\n"
     ]
    },
    {
     "data": {
      "text/plain": [
       "<keras.callbacks.History at 0x7f30c50f3630>"
      ]
     },
     "execution_count": 22,
     "metadata": {},
     "output_type": "execute_result"
    }
   ],
   "source": [
    "warnings.filterwarnings('ignore')\n",
    "# Class Weights\n",
    "class_weights = class_weight.compute_class_weight('balanced', np.unique(y_train), y_train)\n",
    "# Early Stopping\n",
    "earlyStoppingCallback = [EarlyStopping(monitor='val_loss', patience=20)]\n",
    "# Compiling the NN\n",
    "model.compile(optimizer = 'adam', loss = 'sparse_categorical_crossentropy', metrics = ['accuracy'])\n",
    "# Train the NN\n",
    "model.fit(X_train,\n",
    "          y_train, \n",
    "          batch_size = 32, \n",
    "          class_weight=class_weights, \n",
    "          epochs = 400, \n",
    "          callbacks=earlyStoppingCallback, \n",
    "          validation_data=(X_test,y_test),\n",
    "          verbose=0)"
   ]
  },
  {
   "cell_type": "code",
   "execution_count": 23,
   "metadata": {},
   "outputs": [
    {
     "data": {
      "image/png": "[encoded data removed]",
      "text/plain": [
       "<Figure size 432x288 with 1 Axes>"
      ]
     },
     "metadata": {
      "needs_background": "light"
     },
     "output_type": "display_data"
    }
   ],
   "source": [
    "plt.plot(model.history.history['acc'])\n",
    "plt.plot(model.history.history['val_acc'])\n",
    "plt.title('Model accuracy')\n",
    "plt.ylabel('Accuracy')\n",
    "plt.xlabel('Epoch')\n",
    "plt.legend(['Train', 'Test'], loc='upper left')\n",
    "plt.show()"
   ]
  },
  {
   "cell_type": "code",
   "execution_count": 24,
   "metadata": {},
   "outputs": [
    {
     "name": "stdout",
     "output_type": "stream",
     "text": [
      "[[  0  13   0   0   0   0   0   0  16]\n",
      " [  0 588   0   0   1   3   4   1  40]\n",
      " [  0   2   0   0   0   0   0   0   0]\n",
      " [  0   0   0   0   0   0   0   0   5]\n",
      " [  0  55   0   0   2   4   0   0  10]\n",
      " [  0  63   0   0   1  28   1   1  20]\n",
      " [  0  33   0   0   2   0  21   2  14]\n",
      " [  0   6   0   0   0   0   0   0   7]\n",
      " [  0  63   0   0   1   2   1   0 326]]\n",
      "Neural Train Accuracy: 0.7443820224719101\n",
      "Neural Test Accuracy: 0.7223053892215568\n"
     ]
    }
   ],
   "source": [
    "from sklearn.metrics import confusion_matrix\n",
    "dl_confusion_matrix = confusion_matrix(y_test, np.argmax(model.predict(X_test),axis=1))\n",
    "print(dl_confusion_matrix)\n",
    "print (\"Neural Train Accuracy:\", accuracy_score(y_train, np.argmax(model.predict(X_train), axis=1)))\n",
    "print (\"Neural Test Accuracy:\", accuracy_score(y_test, np.argmax(model.predict(X_test), axis=1)))"
   ]
  },
  {
   "cell_type": "code",
   "execution_count": 25,
   "metadata": {},
   "outputs": [
    {
     "data": {
      "text/plain": [
       "<matplotlib.axes._subplots.AxesSubplot at 0x7f30c50f3b00>"
      ]
     },
     "execution_count": 25,
     "metadata": {},
     "output_type": "execute_result"
    },
    {
     "data": {
      "image/png": "[encoded data removed]",
      "text/plain": [
       "<Figure size 576x432 with 2 Axes>"
      ]
     },
     "metadata": {
      "needs_background": "light"
     },
     "output_type": "display_data"
    }
   ],
   "source": [
    "fig, ax = plt.subplots(figsize=(8,6))\n",
    "sbn.heatmap(dl_confusion_matrix, annot=True, annot_kws={\"size\": 10}, fmt='g', ax=ax)"
   ]
  }
 ],
 "metadata": {
  "kernelspec": {
   "display_name": "Python 3",
   "language": "python",
   "name": "python3"
  },
  "language_info": {
   "codemirror_mode": {
    "name": "ipython",
    "version": 3
   },
   "file_extension": ".py",
   "mimetype": "text/x-python",
   "name": "python",
   "nbconvert_exporter": "python",
   "pygments_lexer": "ipython3",
   "version": "3.5.3"
  }
 },
 "nbformat": 4,
 "nbformat_minor": 2
}
